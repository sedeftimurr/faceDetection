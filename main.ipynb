{
 "cells": [
  {
   "cell_type": "markdown",
   "metadata": {},
   "source": [
    "enter your name and have 50 photos taken"
   ]
  },
  {
   "cell_type": "code",
   "execution_count": null,
   "metadata": {},
   "outputs": [],
   "source": [
    "import cv2\n",
    "import os\n",
    "\n",
    "def make_folder(folder_name):\n",
    "    if not os.path.exists(folder_name):\n",
    "        os.makedirs(folder_name)\n",
    "\n",
    "def take_pic(name, folder_name):\n",
    "    cam = cv2.VideoCapture(0)\n",
    "    make_folder(folder_name)\n",
    "\n",
    "    for i in range(50):\n",
    "        _, pic = cam.read()\n",
    "        pic_name = f\"{folder_name}/{name}_{i+1}.jpg\"\n",
    "        cv2.imwrite(pic_name, pic)\n",
    "        print(f\"{i+1}. pic taked: {pic_name}\")\n",
    "\n",
    "    cam.release()\n",
    "    cv2.destroyAllWindows()\n",
    "\n",
    "if __name__ == \"__main__\":\n",
    "    name = input(\"enter your name: \")\n",
    "    folder_name = f\"datas/{name}\"\n",
    "    take_pic(name, folder_name)\n"
   ]
  },
  {
   "cell_type": "markdown",
   "metadata": {},
   "source": [
    "model training"
   ]
  },
  {
   "cell_type": "code",
   "execution_count": null,
   "metadata": {},
   "outputs": [],
   "source": [
    "import cv2\n",
    "import numpy as np\n",
    "from sklearn.model_selection import train_test_split\n",
    "from sklearn.preprocessing import LabelEncoder\n",
    "from sklearn.svm import SVC\n",
    "import os\n",
    "\n",
    "def recognize(folder_name):\n",
    "    tags = []\n",
    "    faces = []\n",
    "    \n",
    "    for persons in os.listdir(folder_name):\n",
    "        for folder in os.listdir(os.path.join(folder_name, persons)):\n",
    "            pic_path = os.path.join(folder_name, persons, folder)\n",
    "            img = cv2.imread(pic_path, cv2.IMREAD_GRAYSCALE)\n",
    "            img = cv2.resize(img, (100, 100))\n",
    "            \n",
    "            flattened_img = img.flatten()\n",
    "            \n",
    "            faces.append(flattened_img)\n",
    "            tags.append(persons)\n",
    "\n",
    "    return np.array(faces), np.array(tags)\n",
    "\n",
    "def build_model():\n",
    "    folder_name = \"datas\"\n",
    "    X, y = recognize(folder_name)\n",
    "\n",
    "    tag_encoder = LabelEncoder()\n",
    "    y = tag_encoder.fit_transform(y)\n",
    "\n",
    "    X_train, X_test, y_train, y_test = train_test_split(X, y, test_size=0.2, random_state=42)\n",
    "\n",
    "    model = SVC(kernel='linear', probability=True)\n",
    "    model.fit(X_train, y_train)\n",
    "\n",
    "    return model, tag_encoder\n",
    "\n",
    "if __name__ == \"__main__\":\n",
    "    model, tag_encoder = build_model()\n",
    "    print(\"model built.\")\n"
   ]
  },
  {
   "cell_type": "markdown",
   "metadata": {},
   "source": [
    "let's try the model"
   ]
  },
  {
   "cell_type": "code",
   "execution_count": null,
   "metadata": {},
   "outputs": [],
   "source": [
    "import cv2\n",
    "import numpy as np\n",
    "face_cascade = cv2.CascadeClassifier(cv2.data.haarcascades + 'haarcascade_frontalface_default.xml')\n",
    "def get_name(pic, name):\n",
    "    font = cv2.FONT_HERSHEY_SIMPLEX\n",
    "    cv2.putText(pic, name, (10, 30), font, 1, (255, 255, 255), 2, cv2.LINE_AA)\n",
    "\n",
    "if __name__ == \"__main__\":\n",
    "    cam = cv2.VideoCapture(0)\n",
    "    model, etiket_encoder = build_model()\n",
    "\n",
    "    while True:\n",
    "        _, pic = cam.read()\n",
    "        gray = cv2.cvtColor(pic, cv2.COLOR_BGR2GRAY)\n",
    "        faces = face_cascade.detectMultiScale(gray, scaleFactor=1.1, minNeighbors=5)\n",
    "\n",
    "        for (x, y, w, h) in faces:\n",
    "            face_part = gray[y:y+h, x:x+w]\n",
    "            face_part = cv2.resize(face_part, (100, 100))\n",
    "            face_part = face_part.flatten()\n",
    "\n",
    "            models_guess = model.predict([face_part])\n",
    "            probability = np.max(model.predict_proba([face_part]))\n",
    "\n",
    "            name = tag_encoder.inverse_transform(models_guess)[0]\n",
    "\n",
    "            get_name(pic, name)\n",
    "\n",
    "        cv2.imshow(\"face recognition\", pic)\n",
    "\n",
    "        # press 'q' to quit\n",
    "        if cv2.waitKey(1) & 0xFF == ord('q'):\n",
    "            break\n",
    "\n",
    "    cam.release()\n",
    "    cv2.destroyAllWindows()\n"
   ]
  }
 ],
 "metadata": {
  "kernelspec": {
   "display_name": "Python 3",
   "language": "python",
   "name": "python3"
  },
  "language_info": {
   "codemirror_mode": {
    "name": "ipython",
    "version": 3
   },
   "file_extension": ".py",
   "mimetype": "text/x-python",
   "name": "python",
   "nbconvert_exporter": "python",
   "pygments_lexer": "ipython3",
   "version": "3.10.7"
  }
 },
 "nbformat": 4,
 "nbformat_minor": 2
}
